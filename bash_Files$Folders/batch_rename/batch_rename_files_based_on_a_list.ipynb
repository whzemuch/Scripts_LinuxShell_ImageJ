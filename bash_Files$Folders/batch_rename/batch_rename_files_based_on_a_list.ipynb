{
 "cells": [
  {
   "cell_type": "code",
   "execution_count": 131,
   "metadata": {},
   "outputs": [],
   "source": [
    "import glob\n",
    "import os\n",
    "import pandas as pd"
   ]
  },
  {
   "cell_type": "code",
   "execution_count": 132,
   "metadata": {},
   "outputs": [
    {
     "name": "stdout",
     "output_type": "stream",
     "text": [
      "ALB_CR_D.XPT\n",
      "ALB_CR_E.XPT\n",
      "ALB_CR_I.XPT\n",
      "AMDGDS_H.XPT\n",
      "AMDGYD_I.XPT\n"
     ]
    }
   ],
   "source": [
    "%%bash\n",
    "ls *.XPT"
   ]
  },
  {
   "cell_type": "code",
   "execution_count": 133,
   "metadata": {},
   "outputs": [
    {
     "data": {
      "text/html": [
       "<div>\n",
       "<style scoped>\n",
       "    .dataframe tbody tr th:only-of-type {\n",
       "        vertical-align: middle;\n",
       "    }\n",
       "\n",
       "    .dataframe tbody tr th {\n",
       "        vertical-align: top;\n",
       "    }\n",
       "\n",
       "    .dataframe thead th {\n",
       "        text-align: right;\n",
       "    }\n",
       "</style>\n",
       "<table border=\"1\" class=\"dataframe\">\n",
       "  <thead>\n",
       "    <tr style=\"text-align: right;\">\n",
       "      <th></th>\n",
       "      <th>year</th>\n",
       "      <th>description</th>\n",
       "      <th>name</th>\n",
       "      <th>size</th>\n",
       "      <th>date</th>\n",
       "    </tr>\n",
       "  </thead>\n",
       "  <tbody>\n",
       "    <tr>\n",
       "      <th>0</th>\n",
       "      <td>2015-2016</td>\n",
       "      <td>Acrylamide &amp; Glycidamide</td>\n",
       "      <td>AMDGYD_I Doc</td>\n",
       "      <td>AMDGYD_I Data [XPT - 127.8 KB]</td>\n",
       "      <td>Dec-19</td>\n",
       "    </tr>\n",
       "    <tr>\n",
       "      <th>1</th>\n",
       "      <td>2013-2014</td>\n",
       "      <td>Acrylamide &amp; Glycidamide - Special Sample</td>\n",
       "      <td>AMDGDS_H Doc</td>\n",
       "      <td>AMDGDS_H Data [XPT - 123.7 KB]</td>\n",
       "      <td>Dec-19</td>\n",
       "    </tr>\n",
       "    <tr>\n",
       "      <th>2</th>\n",
       "      <td>1999-2000</td>\n",
       "      <td>Aflatoxin B1-lysine - Serum (Surplus)</td>\n",
       "      <td>SSAFB_A Doc</td>\n",
       "      <td>SSAFB_A Data [XPT - 945.1 KB]</td>\n",
       "      <td>Aug-12</td>\n",
       "    </tr>\n",
       "    <tr>\n",
       "      <th>3</th>\n",
       "      <td>2007-2008</td>\n",
       "      <td>Albumin &amp; Creatinine - Urine</td>\n",
       "      <td>ALB_CR_E Doc</td>\n",
       "      <td>ALB_CR_E Data [XPT - 319.1 KB]</td>\n",
       "      <td>Sep-09</td>\n",
       "    </tr>\n",
       "    <tr>\n",
       "      <th>4</th>\n",
       "      <td>1999-2000</td>\n",
       "      <td>Albumin &amp; Creatinine - Urine</td>\n",
       "      <td>LAB16 Doc</td>\n",
       "      <td>LAB16 Data [XPT - 306.9 KB]</td>\n",
       "      <td>Jun-02</td>\n",
       "    </tr>\n",
       "    <tr>\n",
       "      <th>5</th>\n",
       "      <td>2005-2006</td>\n",
       "      <td>Albumin &amp; Creatinine - Urine</td>\n",
       "      <td>ALB_CR_D Doc</td>\n",
       "      <td>ALB_CR_D Data [XPT - 317.3 KB]</td>\n",
       "      <td>Nov-07</td>\n",
       "    </tr>\n",
       "  </tbody>\n",
       "</table>\n",
       "</div>"
      ],
      "text/plain": [
       "        year                                description          name  \\\n",
       "0  2015-2016                   Acrylamide & Glycidamide  AMDGYD_I Doc   \n",
       "1  2013-2014  Acrylamide & Glycidamide - Special Sample  AMDGDS_H Doc   \n",
       "2  1999-2000      Aflatoxin B1-lysine - Serum (Surplus)   SSAFB_A Doc   \n",
       "3  2007-2008               Albumin & Creatinine - Urine  ALB_CR_E Doc   \n",
       "4  1999-2000               Albumin & Creatinine - Urine     LAB16 Doc   \n",
       "5  2005-2006               Albumin & Creatinine - Urine  ALB_CR_D Doc   \n",
       "\n",
       "                             size    date  \n",
       "0  AMDGYD_I Data [XPT - 127.8 KB]  Dec-19  \n",
       "1  AMDGDS_H Data [XPT - 123.7 KB]  Dec-19  \n",
       "2   SSAFB_A Data [XPT - 945.1 KB]  Aug-12  \n",
       "3  ALB_CR_E Data [XPT - 319.1 KB]  Sep-09  \n",
       "4     LAB16 Data [XPT - 306.9 KB]  Jun-02  \n",
       "5  ALB_CR_D Data [XPT - 317.3 KB]  Nov-07  "
      ]
     },
     "execution_count": 133,
     "metadata": {},
     "output_type": "execute_result"
    }
   ],
   "source": [
    "file_name = \"./NHASLab.txt\"\n",
    "data = pd.read_csv(file_name, sep = \"\\t\", header = None)\n",
    "data.columns = [\"year\", \"description\", \"name\", \"size\", \"date\" ]\n",
    "data = data.convert_dtypes()\n",
    "data"
   ]
  },
  {
   "cell_type": "code",
   "execution_count": 134,
   "metadata": {},
   "outputs": [
    {
     "data": {
      "text/plain": [
       "{'AMDGYD_I.XPT': '2015-2016_AMDGYD_I.XPT',\n",
       " 'AMDGDS_H.XPT': '2013-2014_AMDGDS_H.XPT',\n",
       " 'SSAFB_A.XPT': '1999-2000_SSAFB_A.XPT',\n",
       " 'ALB_CR_E.XPT': '2007-2008_ALB_CR_E.XPT',\n",
       " 'LAB16.XPT': '1999-2000_LAB16.XPT',\n",
       " 'ALB_CR_D.XPT': '2005-2006_ALB_CR_D.XPT'}"
      ]
     },
     "execution_count": 134,
     "metadata": {},
     "output_type": "execute_result"
    }
   ],
   "source": [
    "data[\"old_name\"] = data[\"name\"].apply(lambda x: f\"{x.replace(' Doc', '')}.XPT\")\n",
    "data[\"new_name\"] = data[\"year\"] + \"_\" + data[\"old_name\"]\n",
    "\n",
    "dict =pd.Series(data.new_name.values, index = data.old_name).to_dict()\n",
    "dict"
   ]
  },
  {
   "cell_type": "code",
   "execution_count": 135,
   "metadata": {},
   "outputs": [],
   "source": [
    "file_lst = glob.glob(r\"*.XPT\")"
   ]
  },
  {
   "cell_type": "code",
   "execution_count": 136,
   "metadata": {},
   "outputs": [
    {
     "name": "stdout",
     "output_type": "stream",
     "text": [
      "SSAFB_A.XPT does not exist in the file_list!\n",
      "LAB16.XPT does not exist in the file_list!\n"
     ]
    }
   ],
   "source": [
    "#[os.rename(old, new) for old, new in  dict.items() if old in file_lst]\n",
    "for old, new in dict.items():\n",
    "    if os.path.exists(old):\n",
    "        if old in file_lst:\n",
    "            os.rename(old, new)\n",
    "    else:\n",
    "        print(f\"{old} does not exist in the file_list!\")\n",
    "            "
   ]
  },
  {
   "cell_type": "code",
   "execution_count": 137,
   "metadata": {},
   "outputs": [
    {
     "name": "stdout",
     "output_type": "stream",
     "text": [
      "2005-2006_ALB_CR_D.XPT\n",
      "2007-2008_ALB_CR_E.XPT\n",
      "2013-2014_AMDGDS_H.XPT\n",
      "2015-2016_AMDGYD_I.XPT\n",
      "ALB_CR_I.XPT\n"
     ]
    }
   ],
   "source": [
    "%%bash \n",
    "ls *.XPT"
   ]
  },
  {
   "cell_type": "code",
   "execution_count": null,
   "metadata": {},
   "outputs": [],
   "source": []
  }
 ],
 "metadata": {
  "kernelspec": {
   "display_name": "Python 3",
   "language": "python",
   "name": "python3"
  },
  "language_info": {
   "codemirror_mode": {
    "name": "ipython",
    "version": 3
   },
   "file_extension": ".py",
   "mimetype": "text/x-python",
   "name": "python",
   "nbconvert_exporter": "python",
   "pygments_lexer": "ipython3",
   "version": "3.6.10"
  }
 },
 "nbformat": 4,
 "nbformat_minor": 4
}
